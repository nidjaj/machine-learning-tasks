{
  "nbformat": 4,
  "nbformat_minor": 0,
  "metadata": {
    "colab": {
      "name": "datavisualization4.ipynb",
      "version": "0.3.2",
      "provenance": [],
      "include_colab_link": true
    },
    "kernelspec": {
      "name": "python3",
      "display_name": "Python 3"
    }
  },
  "cells": [
    {
      "cell_type": "markdown",
      "metadata": {
        "id": "view-in-github",
        "colab_type": "text"
      },
      "source": [
        "<a href=\"https://colab.research.google.com/github/nidjaj/machine-learning-tasks/blob/master/datavisualization4.ipynb\" target=\"_parent\"><img src=\"https://colab.research.google.com/assets/colab-badge.svg\" alt=\"Open In Colab\"/></a>"
      ]
    },
    {
      "cell_type": "code",
      "metadata": {
        "id": "XDUtp1RX4OEs",
        "colab_type": "code",
        "colab": {
          "base_uri": "https://localhost:8080/",
          "height": 50
        },
        "outputId": "5e3718da-24d9-49ca-fec4-896073366c70"
      },
      "source": [
        "import requests   # Using this module for getting scraped data \n",
        "\n",
        "\n",
        "url = 'https://en.wikipedia.org/wiki/Machine_learning'\n",
        "str1 = requests.get(url).text\n",
        "c=0                         # c is counter for total words\n",
        "def word_count(str2):        # function counts total no. of words\n",
        "    counts = dict()\n",
        "    words = str2.split()\n",
        "    for word in words:\n",
        "        global c\n",
        "        c=c+1\n",
        "    return c\n",
        "print(\"Total words : \")\n",
        "word_count(str1)"
      ],
      "execution_count": 1,
      "outputs": [
        {
          "output_type": "stream",
          "text": [
            "Total words : \n"
          ],
          "name": "stdout"
        },
        {
          "output_type": "execute_result",
          "data": {
            "text/plain": [
              "16456"
            ]
          },
          "metadata": {
            "tags": []
          },
          "execution_count": 1
        }
      ]
    },
    {
      "cell_type": "code",
      "metadata": {
        "id": "AAZZxayg4bTl",
        "colab_type": "code",
        "colab": {}
      },
      "source": [
        "def word_c(str2):     # Function calculating frequency of each word\n",
        "    \n",
        "    counts = dict()\n",
        "    words = str2.split()\n",
        "\n",
        "    for word in words:\n",
        "        if word in counts:\n",
        "            counts[word] += 1\n",
        "            \n",
        "        else:\n",
        "            counts[word] = 1\n",
        "\n",
        "    return counts\n",
        "\n",
        "data_set=word_c(str1)"
      ],
      "execution_count": 0,
      "outputs": []
    },
    {
      "cell_type": "code",
      "metadata": {
        "id": "Wp_hR0U65OH_",
        "colab_type": "code",
        "colab": {
          "base_uri": "https://localhost:8080/",
          "height": 351
        },
        "outputId": "56b29525-228f-4790-c983-a40e05651b94"
      },
      "source": [
        "import itertools\n",
        "def sortFreqDict(freqdict):                          # Fxn for sorting the wordcount as per frequency\n",
        "    aux = [(freqdict[key], key) for key in freqdict]\n",
        "    aux.sort()\n",
        "    aux.reverse()\n",
        "    return aux\n",
        "sortedList=sortFreqDict(data_set)\n",
        "type(sortedList)\n",
        "\n",
        "sortedList[:20]      # Displaying top 10 repeated words"
      ],
      "execution_count": 5,
      "outputs": [
        {
          "output_type": "execute_result",
          "data": {
            "text/plain": [
              "[(385, '<a'),\n",
              " (311, 'the'),\n",
              " (278, '<li><a'),\n",
              " (266, 'of'),\n",
              " (210, 'and'),\n",
              " (203, 'to'),\n",
              " (192, 'a'),\n",
              " (159, '<span'),\n",
              " (144, '<li'),\n",
              " (140, 'in'),\n",
              " (135, 'learning'),\n",
              " (103, 'class=\"external'),\n",
              " (102, 'text\"'),\n",
              " (102, 'rel=\"nofollow\"'),\n",
              " (97, 'is'),\n",
              " (96, 'class=\"reference\"><a'),\n",
              " (93, '</li>'),\n",
              " (85, '<div'),\n",
              " (83, 'machine'),\n",
              " (78, 'rel=\"mw-deduplicated-inline-style\"')]"
            ]
          },
          "metadata": {
            "tags": []
          },
          "execution_count": 5
        }
      ]
    },
    {
      "cell_type": "code",
      "metadata": {
        "id": "pO-Fkn7H5Sjj",
        "colab_type": "code",
        "colab": {
          "base_uri": "https://localhost:8080/",
          "height": 269
        },
        "outputId": "a224c8d6-aa17-4bb2-bfad-b205a14288bd"
      },
      "source": [
        "\n",
        "import matplotlib.pyplot as plt\n",
        "import numpy as np\n",
        "\n",
        "arr = np.array(sortedList)    #list indices must be integers or slices, not tuple\n",
        "x = arr[0:10,0]   # Selecting first 10 rows and 1st column\n",
        "y = arr[0:10,1]   # Selecting first 10 rows and 2nd column\n",
        "# Plotting a colorful scatter plot\n",
        "N=10\n",
        "colors = np.random.rand(N)\n",
        "plt.scatter(x, y, c=colors, alpha=0.5)\n",
        "plt.show()"
      ],
      "execution_count": 6,
      "outputs": [
        {
          "output_type": "display_data",
          "data": {
            "image/png": "[encoded data removed]",
            "text/plain": [
              "<Figure size 432x288 with 1 Axes>"
            ]
          },
          "metadata": {
            "tags": []
          }
        }
      ]
    },
    {
      "cell_type": "code",
      "metadata": {
        "id": "Z9gSOx_X5jAw",
        "colab_type": "code",
        "colab": {}
      },
      "source": [
        ""
      ],
      "execution_count": 0,
      "outputs": []
    }
  ]
}