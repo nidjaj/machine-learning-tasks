{
  "nbformat": 4,
  "nbformat_minor": 0,
  "metadata": {
    "colab": {
      "name": "datavisualization2.ipynb",
      "version": "0.3.2",
      "provenance": [],
      "include_colab_link": true
    },
    "kernelspec": {
      "name": "python3",
      "display_name": "Python 3"
    }
  },
  "cells": [
    {
      "cell_type": "markdown",
      "metadata": {
        "id": "view-in-github",
        "colab_type": "text"
      },
      "source": [
        "<a href=\"https://colab.research.google.com/github/nidjaj/machine-learning-tasks/blob/master/datavisualization2.ipynb\" target=\"_parent\"><img src=\"https://colab.research.google.com/assets/colab-badge.svg\" alt=\"Open In Colab\"/></a>"
      ]
    },
    {
      "cell_type": "code",
      "metadata": {
        "id": "OiW7OkEi9ntK",
        "colab_type": "code",
        "colab": {}
      },
      "source": [
        "import requests\n",
        "import time\n",
        "import os\n",
        "def downspeed():\n",
        "    url = \"http://speedtest.ftp.otenet.gr/files/test100k.db\"\n",
        "\n",
        "    start = time.time()\n",
        "    file = requests.get(url)\n",
        "    end = time.time()\n",
        "\n",
        "    time_difference = end - start\n",
        "    file_size = int(file.headers['Content-Length'])/1000    \n",
        "    return  time_difference"
      ],
      "execution_count": 0,
      "outputs": []
    },
    {
      "cell_type": "code",
      "metadata": {
        "id": "BpmPCwus-R3V",
        "colab_type": "code",
        "colab": {}
      },
      "source": [
        "\n",
        "speed=downspeed()\n"
      ],
      "execution_count": 0,
      "outputs": []
    },
    {
      "cell_type": "code",
      "metadata": {
        "id": "KFR9ivs2BNGv",
        "colab_type": "code",
        "colab": {
          "base_uri": "https://localhost:8080/",
          "height": 33
        },
        "outputId": "4e9a82b0-92b2-4db9-b738-0dc741ea6afb"
      },
      "source": [
        "\n",
        "print(speed)"
      ],
      "execution_count": 15,
      "outputs": [
        {
          "output_type": "stream",
          "text": [
            "1.8426175117492676\n"
          ],
          "name": "stdout"
        }
      ]
    },
    {
      "cell_type": "code",
      "metadata": {
        "id": "9iH15BSP-fvA",
        "colab_type": "code",
        "colab": {}
      },
      "source": [
        ""
      ],
      "execution_count": 0,
      "outputs": []
    },
    {
      "cell_type": "code",
      "metadata": {
        "id": "3te1MpX6-kkg",
        "colab_type": "code",
        "colab": {}
      },
      "source": [
        ""
      ],
      "execution_count": 0,
      "outputs": []
    }
  ]
}